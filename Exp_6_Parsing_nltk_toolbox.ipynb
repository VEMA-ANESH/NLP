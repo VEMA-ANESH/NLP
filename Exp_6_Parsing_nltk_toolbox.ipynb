{
 "cells": [
  {
   "cell_type": "code",
   "execution_count": 1,
   "id": "abb5d955",
   "metadata": {},
   "outputs": [],
   "source": [
    "import nltk"
   ]
  },
  {
   "cell_type": "code",
   "execution_count": 2,
   "id": "cfeb35f0",
   "metadata": {},
   "outputs": [],
   "source": [
    "input_sentence = \"Dogs chase Cats\""
   ]
  },
  {
   "cell_type": "code",
   "execution_count": 3,
   "id": "3add7977",
   "metadata": {},
   "outputs": [],
   "source": [
    "text = nltk.word_tokenize(input_sentence)"
   ]
  },
  {
   "cell_type": "code",
   "execution_count": 4,
   "id": "dd05f8b6",
   "metadata": {},
   "outputs": [
    {
     "data": {
      "text/plain": [
       "['Dogs', 'chase', 'Cats']"
      ]
     },
     "execution_count": 4,
     "metadata": {},
     "output_type": "execute_result"
    }
   ],
   "source": [
    "text"
   ]
  },
  {
   "cell_type": "code",
   "execution_count": 5,
   "id": "9420400e",
   "metadata": {},
   "outputs": [],
   "source": [
    "list_of_tokens = nltk.pos_tag(text)"
   ]
  },
  {
   "cell_type": "code",
   "execution_count": 6,
   "id": "d1b95556",
   "metadata": {},
   "outputs": [
    {
     "name": "stdout",
     "output_type": "stream",
     "text": [
      "[('Dogs', 'NNS'), ('chase', 'NN'), ('Cats', 'NNP')]\n"
     ]
    }
   ],
   "source": [
    "print(list_of_tokens)"
   ]
  },
  {
   "cell_type": "markdown",
   "id": "bb76e8cf",
   "metadata": {},
   "source": [
    "# NNS\tnoun plural (Dogs)\n",
    "# NN\tnoun, singular (Chase)\n",
    "# NNP\tproper noun, singular (Cats)"
   ]
  },
  {
   "cell_type": "markdown",
   "id": "08ed4dae",
   "metadata": {},
   "source": [
    "NLTK POS tagger is used to assign grammatical information of each word of the sentence"
   ]
  },
  {
   "cell_type": "markdown",
   "id": "7fed4018",
   "metadata": {},
   "source": [
    "# Grammatical Ambiguities"
   ]
  },
  {
   "cell_type": "markdown",
   "id": "ed1f6767",
   "metadata": {},
   "source": [
    "# Ubiquitous Ambiguity"
   ]
  },
  {
   "cell_type": "markdown",
   "id": "6c43bfaf",
   "metadata": {},
   "source": [
    "# Let's take a closer look at the ambiguity in the phrase: I shot an elephant in my pajamas. First we need to define a simple grammar:"
   ]
  },
  {
   "cell_type": "code",
   "execution_count": 7,
   "id": "447ebdf4",
   "metadata": {},
   "outputs": [],
   "source": [
    "groucho_grammar = nltk.CFG.fromstring(\"\"\"\n",
    "... S -> NP VP\n",
    "... PP -> P NP\n",
    "... NP -> Det N | Det N PP | 'I'\n",
    "... VP -> V NP | VP PP\n",
    "... Det -> 'an' | 'my'\n",
    "... N -> 'elephant' | 'pajamas'\n",
    "... V -> 'shot'\n",
    "... P -> 'in'\n",
    "... \"\"\")"
   ]
  },
  {
   "cell_type": "code",
   "execution_count": 8,
   "id": "49e9cd68",
   "metadata": {},
   "outputs": [
    {
     "data": {
      "text/plain": [
       "[S -> NP VP,\n",
       " PP -> P NP,\n",
       " NP -> Det N,\n",
       " NP -> Det N PP,\n",
       " NP -> 'I',\n",
       " VP -> V NP,\n",
       " VP -> VP PP,\n",
       " Det -> 'an',\n",
       " Det -> 'my',\n",
       " N -> 'elephant',\n",
       " N -> 'pajamas',\n",
       " V -> 'shot',\n",
       " P -> 'in']"
      ]
     },
     "execution_count": 8,
     "metadata": {},
     "output_type": "execute_result"
    }
   ],
   "source": [
    "groucho_grammar.productions()"
   ]
  },
  {
   "cell_type": "code",
   "execution_count": 9,
   "id": "57441365",
   "metadata": {},
   "outputs": [],
   "source": [
    "sent = ['I', 'shot', 'an', 'elephant', 'in', 'my', 'pajamas']"
   ]
  },
  {
   "cell_type": "code",
   "execution_count": 10,
   "id": "5ec404ab",
   "metadata": {},
   "outputs": [],
   "source": [
    "parser = nltk.ChartParser(groucho_grammar)"
   ]
  },
  {
   "cell_type": "code",
   "execution_count": 11,
   "id": "9bc6f338",
   "metadata": {},
   "outputs": [
    {
     "name": "stdout",
     "output_type": "stream",
     "text": [
      "(S\n",
      "  (NP I)\n",
      "  (VP\n",
      "    (VP (V shot) (NP (Det an) (N elephant)))\n",
      "    (PP (P in) (NP (Det my) (N pajamas)))))\n",
      "(S\n",
      "  (NP I)\n",
      "  (VP\n",
      "    (V shot)\n",
      "    (NP (Det an) (N elephant) (PP (P in) (NP (Det my) (N pajamas))))))\n"
     ]
    }
   ],
   "source": [
    "for tree in parser.parse(sent):\n",
    "    print(tree)"
   ]
  },
  {
   "cell_type": "code",
   "execution_count": null,
   "id": "f1423762",
   "metadata": {},
   "outputs": [
    {
     "name": "stdout",
     "output_type": "stream",
     "text": [
      "(S\n",
      "  (NP I)\n",
      "  (VP\n",
      "    (V shot)\n",
      "    (NP (Det an) (N elephant) (PP (P in) (NP (Det my) (N pajamas))))))\n",
      "(S\n",
      "  (NP I)\n",
      "  (VP\n",
      "    (VP (V shot) (NP (Det an) (N elephant)))\n",
      "    (PP (P in) (NP (Det my) (N pajamas)))))\n"
     ]
    }
   ],
   "source": [
    "rd_parser = nltk.RecursiveDescentParser(groucho_grammar)\n",
    "for tree in rd_parser.parse(sent):\n",
    "    print(tree)"
   ]
  },
  {
   "cell_type": "markdown",
   "id": "f593d9bf",
   "metadata": {},
   "source": [
    "# 1. Recursive Descent Parsing"
   ]
  },
  {
   "cell_type": "code",
   "execution_count": 15,
   "id": "6b498f38",
   "metadata": {},
   "outputs": [],
   "source": [
    "grammar1 = nltk.CFG.fromstring(\"\"\"\n",
    "  S -> NP VP\n",
    "  VP -> V NP | V NP PP\n",
    "  PP -> P NP\n",
    "  V -> \"saw\" | \"ate\" | \"walked\"\n",
    "  NP -> \"John\" | \"Mary\" | \"Bob\" | Det N | Det N PP\n",
    "  Det -> \"a\" | \"an\" | \"the\" | \"my\"\n",
    "  N -> \"man\" | \"dog\" | \"cat\" | \"telescope\" | \"park\"\n",
    "  P -> \"in\" | \"on\" | \"by\" | \"with\"\n",
    "  \"\"\")"
   ]
  },
  {
   "cell_type": "code",
   "execution_count": 17,
   "id": "84cb788b",
   "metadata": {},
   "outputs": [
    {
     "name": "stdout",
     "output_type": "stream",
     "text": [
      "Parsing 'John walked dog by the cat'\n",
      "Start:\n",
      "    [ * S ]\n",
      "Expand: S -> NP VP\n",
      "    [ * NP VP ]\n",
      "Expand: NP -> 'John'\n",
      "    [ * 'John' VP ]\n",
      "Match: 'John'\n",
      "    [ 'John' * VP ]\n",
      "Expand: VP -> V NP\n",
      "    [ 'John' * V NP ]\n",
      "Expand: V -> 'saw'\n",
      "    [ 'John' * 'saw' NP ]\n",
      "Backtrack: 'walked' match failed\n",
      "Expand: V -> 'ate'\n",
      "    [ 'John' * 'ate' NP ]\n",
      "Backtrack: 'walked' match failed\n",
      "Expand: V -> 'walked'\n",
      "    [ 'John' * 'walked' NP ]\n",
      "Match: 'walked'\n",
      "    [ 'John' 'walked' * NP ]\n",
      "Expand: NP -> 'John'\n",
      "    [ 'John' 'walked' * 'John' ]\n",
      "Backtrack: 'dog' match failed\n",
      "Expand: NP -> 'Mary'\n",
      "    [ 'John' 'walked' * 'Mary' ]\n",
      "Backtrack: 'dog' match failed\n",
      "Expand: NP -> 'Bob'\n",
      "    [ 'John' 'walked' * 'Bob' ]\n",
      "Backtrack: 'dog' match failed\n",
      "Expand: NP -> Det N\n",
      "    [ 'John' 'walked' * Det N ]\n",
      "Expand: Det -> 'a'\n",
      "    [ 'John' 'walked' * 'a' N ]\n",
      "Backtrack: 'dog' match failed\n",
      "Expand: Det -> 'an'\n",
      "    [ 'John' 'walked' * 'an' N ]\n",
      "Backtrack: 'dog' match failed\n",
      "Expand: Det -> 'the'\n",
      "    [ 'John' 'walked' * 'the' N ]\n",
      "Backtrack: 'dog' match failed\n",
      "Expand: Det -> 'my'\n",
      "    [ 'John' 'walked' * 'my' N ]\n",
      "Backtrack: 'dog' match failed\n",
      "Expand: NP -> Det N PP\n",
      "    [ 'John' 'walked' * Det N PP ]\n",
      "Expand: Det -> 'a'\n",
      "    [ 'John' 'walked' * 'a' N PP ]\n",
      "Backtrack: 'dog' match failed\n",
      "Expand: Det -> 'an'\n",
      "    [ 'John' 'walked' * 'an' N PP ]\n",
      "Backtrack: 'dog' match failed\n",
      "Expand: Det -> 'the'\n",
      "    [ 'John' 'walked' * 'the' N PP ]\n",
      "Backtrack: 'dog' match failed\n",
      "Expand: Det -> 'my'\n",
      "    [ 'John' 'walked' * 'my' N PP ]\n",
      "Backtrack: 'dog' match failed\n",
      "Expand: VP -> V NP PP\n",
      "    [ 'John' * V NP PP ]\n",
      "Expand: V -> 'saw'\n",
      "    [ 'John' * 'saw' NP PP ]\n",
      "Backtrack: 'walked' match failed\n",
      "Expand: V -> 'ate'\n",
      "    [ 'John' * 'ate' NP PP ]\n",
      "Backtrack: 'walked' match failed\n",
      "Expand: V -> 'walked'\n",
      "    [ 'John' * 'walked' NP PP ]\n",
      "Match: 'walked'\n",
      "    [ 'John' 'walked' * NP PP ]\n",
      "Expand: NP -> 'John'\n",
      "    [ 'John' 'walked' * 'John' PP ]\n",
      "Backtrack: 'dog' match failed\n",
      "Expand: NP -> 'Mary'\n",
      "    [ 'John' 'walked' * 'Mary' PP ]\n",
      "Backtrack: 'dog' match failed\n",
      "Expand: NP -> 'Bob'\n",
      "    [ 'John' 'walked' * 'Bob' PP ]\n",
      "Backtrack: 'dog' match failed\n",
      "Expand: NP -> Det N\n",
      "    [ 'John' 'walked' * Det N PP ]\n",
      "Expand: Det -> 'a'\n",
      "    [ 'John' 'walked' * 'a' N PP ]\n",
      "Backtrack: 'dog' match failed\n",
      "Expand: Det -> 'an'\n",
      "    [ 'John' 'walked' * 'an' N PP ]\n",
      "Backtrack: 'dog' match failed\n",
      "Expand: Det -> 'the'\n",
      "    [ 'John' 'walked' * 'the' N PP ]\n",
      "Backtrack: 'dog' match failed\n",
      "Expand: Det -> 'my'\n",
      "    [ 'John' 'walked' * 'my' N PP ]\n",
      "Backtrack: 'dog' match failed\n",
      "Expand: NP -> Det N PP\n",
      "    [ 'John' 'walked' * Det N PP PP ]\n",
      "Expand: Det -> 'a'\n",
      "    [ 'John' 'walked' * 'a' N PP PP ]\n",
      "Backtrack: 'dog' match failed\n",
      "Expand: Det -> 'an'\n",
      "    [ 'John' 'walked' * 'an' N PP PP ]\n",
      "Backtrack: 'dog' match failed\n",
      "Expand: Det -> 'the'\n",
      "    [ 'John' 'walked' * 'the' N PP PP ]\n",
      "Backtrack: 'dog' match failed\n",
      "Expand: Det -> 'my'\n",
      "    [ 'John' 'walked' * 'my' N PP PP ]\n",
      "Backtrack: 'dog' match failed\n",
      "Expand: NP -> 'Mary'\n",
      "    [ * 'Mary' VP ]\n",
      "Backtrack: 'John' match failed\n",
      "Expand: NP -> 'Bob'\n",
      "    [ * 'Bob' VP ]\n",
      "Backtrack: 'John' match failed\n",
      "Expand: NP -> Det N\n",
      "    [ * Det N VP ]\n",
      "Expand: Det -> 'a'\n",
      "    [ * 'a' N VP ]\n",
      "Backtrack: 'John' match failed\n",
      "Expand: Det -> 'an'\n",
      "    [ * 'an' N VP ]\n",
      "Backtrack: 'John' match failed\n",
      "Expand: Det -> 'the'\n",
      "    [ * 'the' N VP ]\n",
      "Backtrack: 'John' match failed\n",
      "Expand: Det -> 'my'\n",
      "    [ * 'my' N VP ]\n",
      "Backtrack: 'John' match failed\n",
      "Expand: NP -> Det N PP\n",
      "    [ * Det N PP VP ]\n",
      "Expand: Det -> 'a'\n",
      "    [ * 'a' N PP VP ]\n",
      "Backtrack: 'John' match failed\n",
      "Expand: Det -> 'an'\n",
      "    [ * 'an' N PP VP ]\n",
      "Backtrack: 'John' match failed\n",
      "Expand: Det -> 'the'\n",
      "    [ * 'the' N PP VP ]\n",
      "Backtrack: 'John' match failed\n",
      "Expand: Det -> 'my'\n",
      "    [ * 'my' N PP VP ]\n",
      "Backtrack: 'John' match failed\n"
     ]
    }
   ],
   "source": [
    "sent = \"Mary saw Bob\".split()\n",
    "sent = \"John walked dog by the cat\".split()\n",
    "rd_parser = nltk.RecursiveDescentParser(grammar1,trace=3)\n",
    "for tree in rd_parser.parse(sent):\n",
    "    print(tree)"
   ]
  },
  {
   "cell_type": "code",
   "execution_count": null,
   "id": "ff67ff51",
   "metadata": {},
   "outputs": [],
   "source": []
  }
 ],
 "metadata": {
  "kernelspec": {
   "display_name": "Python 3",
   "language": "python",
   "name": "python3"
  },
  "language_info": {
   "codemirror_mode": {
    "name": "ipython",
    "version": 3
   },
   "file_extension": ".py",
   "mimetype": "text/x-python",
   "name": "python",
   "nbconvert_exporter": "python",
   "pygments_lexer": "ipython3",
   "version": "3.8.8"
  }
 },
 "nbformat": 4,
 "nbformat_minor": 5
}
