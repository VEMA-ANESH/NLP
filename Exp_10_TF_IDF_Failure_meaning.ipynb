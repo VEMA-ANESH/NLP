{
 "cells": [
  {
   "cell_type": "code",
   "execution_count": 1,
   "id": "79256fc6",
   "metadata": {},
   "outputs": [],
   "source": [
    "from sklearn.feature_extraction.text import CountVectorizer\n",
    "vectorizer = CountVectorizer()\n",
    "corpus = [\n",
    "    \"sunday is my favoute sunday\",\n",
    "    \"I hate mondays after sunday\",\n",
    "    \"Tuesday is good day as its my birthday but sunday\",\n",
    "    \"wednesday is a holiday for festival\",\n",
    "    \"I dont like to come on thrusday\",\n",
    "    \"friday i have to come early\",\n",
    "    \"saturday i passion to work more\"\n",
    "]\n",
    "\n"
   ]
  },
  {
   "cell_type": "code",
   "execution_count": 2,
   "id": "adaae6e8",
   "metadata": {},
   "outputs": [
    {
     "data": {
      "text/plain": [
       "<7x31 sparse matrix of type '<class 'numpy.float64'>'\n",
       "\twith 39 stored elements in Compressed Sparse Row format>"
      ]
     },
     "execution_count": 2,
     "metadata": {},
     "output_type": "execute_result"
    }
   ],
   "source": [
    "from sklearn.feature_extraction.text import TfidfVectorizer,CountVectorizer, TfidfTransformer\n",
    "vectorizer = TfidfVectorizer()\n",
    "vectorizer.fit_transform(corpus)"
   ]
  },
  {
   "cell_type": "code",
   "execution_count": 3,
   "id": "ae8f3517",
   "metadata": {},
   "outputs": [
    {
     "data": {
      "text/plain": [
       "array([[0.        , 0.        , 0.        , 0.        , 0.        ,\n",
       "        0.        , 0.        , 0.        , 0.48758994, 0.        ,\n",
       "        0.        , 0.        , 0.        , 0.        , 0.        ,\n",
       "        0.        , 0.34595964, 0.        , 0.        , 0.        ,\n",
       "        0.        , 0.40474152, 0.        , 0.        , 0.        ,\n",
       "        0.69191927, 0.        , 0.        , 0.        , 0.        ,\n",
       "        0.        ],\n",
       "       [0.53426056, 0.        , 0.        , 0.        , 0.        ,\n",
       "        0.        , 0.        , 0.        , 0.        , 0.        ,\n",
       "        0.        , 0.        , 0.        , 0.53426056, 0.        ,\n",
       "        0.        , 0.        , 0.        , 0.        , 0.53426056,\n",
       "        0.        , 0.        , 0.        , 0.        , 0.        ,\n",
       "        0.37907384, 0.        , 0.        , 0.        , 0.        ,\n",
       "        0.        ],\n",
       "       [0.        , 0.33911151, 0.33911151, 0.33911151, 0.        ,\n",
       "        0.33911151, 0.        , 0.        , 0.        , 0.        ,\n",
       "        0.        , 0.        , 0.33911151, 0.        , 0.        ,\n",
       "        0.        , 0.24060976, 0.33911151, 0.        , 0.        ,\n",
       "        0.        , 0.28149168, 0.        , 0.        , 0.        ,\n",
       "        0.24060976, 0.        , 0.        , 0.33911151, 0.        ,\n",
       "        0.        ],\n",
       "       [0.        , 0.        , 0.        , 0.        , 0.        ,\n",
       "        0.        , 0.        , 0.        , 0.        , 0.47122483,\n",
       "        0.47122483, 0.        , 0.        , 0.        , 0.        ,\n",
       "        0.47122483, 0.3343481 , 0.        , 0.        , 0.        ,\n",
       "        0.        , 0.        , 0.        , 0.        , 0.        ,\n",
       "        0.        , 0.        , 0.        , 0.        , 0.47122483,\n",
       "        0.        ],\n",
       "       [0.        , 0.        , 0.        , 0.        , 0.3642804 ,\n",
       "        0.        , 0.43884665, 0.        , 0.        , 0.        ,\n",
       "        0.        , 0.        , 0.        , 0.        , 0.        ,\n",
       "        0.        , 0.        , 0.        , 0.43884665, 0.        ,\n",
       "        0.        , 0.        , 0.43884665, 0.        , 0.        ,\n",
       "        0.        , 0.43884665, 0.31137481, 0.        , 0.        ,\n",
       "        0.        ],\n",
       "       [0.        , 0.        , 0.        , 0.        , 0.40540376,\n",
       "        0.        , 0.        , 0.48838773, 0.        , 0.        ,\n",
       "        0.        , 0.48838773, 0.        , 0.        , 0.48838773,\n",
       "        0.        , 0.        , 0.        , 0.        , 0.        ,\n",
       "        0.        , 0.        , 0.        , 0.        , 0.        ,\n",
       "        0.        , 0.        , 0.3465257 , 0.        , 0.        ,\n",
       "        0.        ],\n",
       "       [0.        , 0.        , 0.        , 0.        , 0.        ,\n",
       "        0.        , 0.        , 0.        , 0.        , 0.        ,\n",
       "        0.        , 0.        , 0.        , 0.        , 0.        ,\n",
       "        0.        , 0.        , 0.        , 0.        , 0.        ,\n",
       "        0.47122483, 0.        , 0.        , 0.47122483, 0.47122483,\n",
       "        0.        , 0.        , 0.3343481 , 0.        , 0.        ,\n",
       "        0.47122483]])"
      ]
     },
     "execution_count": 3,
     "metadata": {},
     "output_type": "execute_result"
    }
   ],
   "source": [
    "vectorizer.fit_transform(corpus).toarray()"
   ]
  },
  {
   "cell_type": "code",
   "execution_count": 5,
   "id": "e218ab99",
   "metadata": {},
   "outputs": [
    {
     "name": "stdout",
     "output_type": "stream",
     "text": [
      "['after' 'as' 'birthday' 'but' 'come' 'day' 'dont' 'early' 'favoute'\n",
      " 'festival' 'for' 'friday' 'good' 'hate' 'have' 'holiday' 'is' 'its'\n",
      " 'like' 'mondays' 'more' 'my' 'on' 'passion' 'saturday' 'sunday'\n",
      " 'thrusday' 'to' 'tuesday' 'wednesday' 'work']\n"
     ]
    }
   ],
   "source": [
    "from sklearn.feature_extraction.text import CountVectorizer\n",
    "\n",
    "# Create a CountVectorizer\n",
    "vectorizer = CountVectorizer()\n",
    "\n",
    "# Fit and transform your data\n",
    "X = vectorizer.fit_transform(corpus)\n",
    "\n",
    "# Get the feature names\n",
    "feature_names = vectorizer.get_feature_names_out()\n",
    "\n",
    "# Now you can access the feature names\n",
    "print(feature_names)\n"
   ]
  },
  {
   "cell_type": "code",
   "execution_count": 18,
   "id": "7f085b50",
   "metadata": {},
   "outputs": [],
   "source": [
    "testdata = ['i like festival', 'i love vacation in festival', 'i interested in work in festival']"
   ]
  },
  {
   "cell_type": "code",
   "execution_count": 19,
   "id": "7095e814",
   "metadata": {},
   "outputs": [
    {
     "name": "stdout",
     "output_type": "stream",
     "text": [
      "{'festival': 1.0, 'in': 1.2876820724517808, 'interested': 1.6931471805599454, 'like': 1.6931471805599454, 'love': 1.6931471805599454, 'vacation': 1.6931471805599454, 'work': 1.6931471805599454}\n"
     ]
    }
   ],
   "source": [
    "from sklearn.feature_extraction.text import TfidfVectorizer\n",
    "\n",
    "# Sample test data\n",
    "testdata = ['i like festival', 'i love vacation in festival', 'i interested in work in festival']\n",
    "\n",
    "# Initialize TfidfVectorizer\n",
    "vectorizer1 = TfidfVectorizer()\n",
    "\n",
    "# Fit and transform the test data\n",
    "X = vectorizer1.fit_transform(testdata)\n",
    "\n",
    "# Create a dictionary of words and their corresponding tf-idf values\n",
    "word2tfidftt = dict(zip(vectorizer1.get_feature_names_out(), vectorizer1.idf_))\n",
    "\n",
    "# Print the dictionary\n",
    "print(word2tfidftt)\n"
   ]
  },
  {
   "cell_type": "code",
   "execution_count": 20,
   "id": "2915a896",
   "metadata": {},
   "outputs": [
    {
     "data": {
      "text/plain": [
       "array([1.        , 1.28768207, 1.69314718, 1.69314718, 1.69314718,\n",
       "       1.69314718, 1.69314718])"
      ]
     },
     "execution_count": 20,
     "metadata": {},
     "output_type": "execute_result"
    }
   ],
   "source": [
    "vectorizer1.idf_"
   ]
  },
  {
   "cell_type": "code",
   "execution_count": 23,
   "id": "f82a88dc",
   "metadata": {},
   "outputs": [
    {
     "ename": "AttributeError",
     "evalue": "'CountVectorizer' object has no attribute 'idf_'",
     "output_type": "error",
     "traceback": [
      "\u001b[1;31m---------------------------------------------------------------------------\u001b[0m",
      "\u001b[1;31mAttributeError\u001b[0m                            Traceback (most recent call last)",
      "Cell \u001b[1;32mIn[23], line 1\u001b[0m\n\u001b[1;32m----> 1\u001b[0m vectorizer\u001b[38;5;241m.\u001b[39midf_\n",
      "\u001b[1;31mAttributeError\u001b[0m: 'CountVectorizer' object has no attribute 'idf_'"
     ]
    }
   ],
   "source": [
    "vectorizer.idf_"
   ]
  },
  {
   "cell_type": "code",
   "execution_count": 22,
   "id": "19d5ee05",
   "metadata": {},
   "outputs": [
    {
     "ename": "SyntaxError",
     "evalue": "illegal target for annotation (782270217.py, line 1)",
     "output_type": "error",
     "traceback": [
      "\u001b[1;36m  Cell \u001b[1;32mIn[22], line 1\u001b[1;36m\u001b[0m\n\u001b[1;33m    'festival': 2.386294361119891,  'festival': 1.0,\u001b[0m\n\u001b[1;37m    ^\u001b[0m\n\u001b[1;31mSyntaxError\u001b[0m\u001b[1;31m:\u001b[0m illegal target for annotation\n"
     ]
    }
   ],
   "source": [
    "'festival': 2.386294361119891,  'festival': 1.0,"
   ]
  },
  {
   "cell_type": "code",
   "execution_count": null,
   "id": "5bcb86b3-504c-4bf8-8223-8a2f98c85d7e",
   "metadata": {},
   "outputs": [],
   "source": []
  }
 ],
 "metadata": {
  "kernelspec": {
   "display_name": "Python 3 (ipykernel)",
   "language": "python",
   "name": "python3"
  },
  "language_info": {
   "codemirror_mode": {
    "name": "ipython",
    "version": 3
   },
   "file_extension": ".py",
   "mimetype": "text/x-python",
   "name": "python",
   "nbconvert_exporter": "python",
   "pygments_lexer": "ipython3",
   "version": "3.11.7"
  }
 },
 "nbformat": 4,
 "nbformat_minor": 5
}
